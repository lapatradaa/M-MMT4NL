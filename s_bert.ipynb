{
  "nbformat": 4,
  "nbformat_minor": 0,
  "metadata": {
    "colab": {
      "provenance": [],
      "authorship_tag": "ABX9TyOqJKDNMU6K/w5qKbTZHy8s",
      "include_colab_link": true
    },
    "kernelspec": {
      "name": "python3",
      "display_name": "Python 3"
    },
    "language_info": {
      "name": "python"
    }
  },
  "cells": [
    {
      "cell_type": "markdown",
      "metadata": {
        "id": "view-in-github",
        "colab_type": "text"
      },
      "source": [
        "<a href=\"https://colab.research.google.com/github/lapatradaa/M-MMT4NL/blob/main/s_bert.ipynb\" target=\"_parent\"><img src=\"https://colab.research.google.com/assets/colab-badge.svg\" alt=\"Open In Colab\"/></a>"
      ]
    },
    {
      "cell_type": "code",
      "execution_count": 1,
      "metadata": {
        "colab": {
          "base_uri": "https://localhost:8080/"
        },
        "id": "5dRLzE8ds2Ik",
        "outputId": "a53d48b8-54f6-47b3-ff5e-008f8ddeae61"
      },
      "outputs": [
        {
          "output_type": "stream",
          "name": "stdout",
          "text": [
            "Requirement already satisfied: sentence-transformers in /usr/local/lib/python3.12/dist-packages (5.1.1)\n",
            "Requirement already satisfied: transformers<5.0.0,>=4.41.0 in /usr/local/lib/python3.12/dist-packages (from sentence-transformers) (4.56.2)\n",
            "Requirement already satisfied: tqdm in /usr/local/lib/python3.12/dist-packages (from sentence-transformers) (4.67.1)\n",
            "Requirement already satisfied: torch>=1.11.0 in /usr/local/lib/python3.12/dist-packages (from sentence-transformers) (2.8.0+cu126)\n",
            "Requirement already satisfied: scikit-learn in /usr/local/lib/python3.12/dist-packages (from sentence-transformers) (1.6.1)\n",
            "Requirement already satisfied: scipy in /usr/local/lib/python3.12/dist-packages (from sentence-transformers) (1.16.2)\n",
            "Requirement already satisfied: huggingface-hub>=0.20.0 in /usr/local/lib/python3.12/dist-packages (from sentence-transformers) (0.35.3)\n",
            "Requirement already satisfied: Pillow in /usr/local/lib/python3.12/dist-packages (from sentence-transformers) (11.3.0)\n",
            "Requirement already satisfied: typing_extensions>=4.5.0 in /usr/local/lib/python3.12/dist-packages (from sentence-transformers) (4.15.0)\n",
            "Requirement already satisfied: filelock in /usr/local/lib/python3.12/dist-packages (from huggingface-hub>=0.20.0->sentence-transformers) (3.19.1)\n",
            "Requirement already satisfied: fsspec>=2023.5.0 in /usr/local/lib/python3.12/dist-packages (from huggingface-hub>=0.20.0->sentence-transformers) (2025.3.0)\n",
            "Requirement already satisfied: packaging>=20.9 in /usr/local/lib/python3.12/dist-packages (from huggingface-hub>=0.20.0->sentence-transformers) (25.0)\n",
            "Requirement already satisfied: pyyaml>=5.1 in /usr/local/lib/python3.12/dist-packages (from huggingface-hub>=0.20.0->sentence-transformers) (6.0.3)\n",
            "Requirement already satisfied: requests in /usr/local/lib/python3.12/dist-packages (from huggingface-hub>=0.20.0->sentence-transformers) (2.32.4)\n",
            "Requirement already satisfied: hf-xet<2.0.0,>=1.1.3 in /usr/local/lib/python3.12/dist-packages (from huggingface-hub>=0.20.0->sentence-transformers) (1.1.10)\n",
            "Requirement already satisfied: setuptools in /usr/local/lib/python3.12/dist-packages (from torch>=1.11.0->sentence-transformers) (75.2.0)\n",
            "Requirement already satisfied: sympy>=1.13.3 in /usr/local/lib/python3.12/dist-packages (from torch>=1.11.0->sentence-transformers) (1.13.3)\n",
            "Requirement already satisfied: networkx in /usr/local/lib/python3.12/dist-packages (from torch>=1.11.0->sentence-transformers) (3.5)\n",
            "Requirement already satisfied: jinja2 in /usr/local/lib/python3.12/dist-packages (from torch>=1.11.0->sentence-transformers) (3.1.6)\n",
            "Requirement already satisfied: nvidia-cuda-nvrtc-cu12==12.6.77 in /usr/local/lib/python3.12/dist-packages (from torch>=1.11.0->sentence-transformers) (12.6.77)\n",
            "Requirement already satisfied: nvidia-cuda-runtime-cu12==12.6.77 in /usr/local/lib/python3.12/dist-packages (from torch>=1.11.0->sentence-transformers) (12.6.77)\n",
            "Requirement already satisfied: nvidia-cuda-cupti-cu12==12.6.80 in /usr/local/lib/python3.12/dist-packages (from torch>=1.11.0->sentence-transformers) (12.6.80)\n",
            "Requirement already satisfied: nvidia-cudnn-cu12==9.10.2.21 in /usr/local/lib/python3.12/dist-packages (from torch>=1.11.0->sentence-transformers) (9.10.2.21)\n",
            "Requirement already satisfied: nvidia-cublas-cu12==12.6.4.1 in /usr/local/lib/python3.12/dist-packages (from torch>=1.11.0->sentence-transformers) (12.6.4.1)\n",
            "Requirement already satisfied: nvidia-cufft-cu12==11.3.0.4 in /usr/local/lib/python3.12/dist-packages (from torch>=1.11.0->sentence-transformers) (11.3.0.4)\n",
            "Requirement already satisfied: nvidia-curand-cu12==10.3.7.77 in /usr/local/lib/python3.12/dist-packages (from torch>=1.11.0->sentence-transformers) (10.3.7.77)\n",
            "Requirement already satisfied: nvidia-cusolver-cu12==11.7.1.2 in /usr/local/lib/python3.12/dist-packages (from torch>=1.11.0->sentence-transformers) (11.7.1.2)\n",
            "Requirement already satisfied: nvidia-cusparse-cu12==12.5.4.2 in /usr/local/lib/python3.12/dist-packages (from torch>=1.11.0->sentence-transformers) (12.5.4.2)\n",
            "Requirement already satisfied: nvidia-cusparselt-cu12==0.7.1 in /usr/local/lib/python3.12/dist-packages (from torch>=1.11.0->sentence-transformers) (0.7.1)\n",
            "Requirement already satisfied: nvidia-nccl-cu12==2.27.3 in /usr/local/lib/python3.12/dist-packages (from torch>=1.11.0->sentence-transformers) (2.27.3)\n",
            "Requirement already satisfied: nvidia-nvtx-cu12==12.6.77 in /usr/local/lib/python3.12/dist-packages (from torch>=1.11.0->sentence-transformers) (12.6.77)\n",
            "Requirement already satisfied: nvidia-nvjitlink-cu12==12.6.85 in /usr/local/lib/python3.12/dist-packages (from torch>=1.11.0->sentence-transformers) (12.6.85)\n",
            "Requirement already satisfied: nvidia-cufile-cu12==1.11.1.6 in /usr/local/lib/python3.12/dist-packages (from torch>=1.11.0->sentence-transformers) (1.11.1.6)\n",
            "Requirement already satisfied: triton==3.4.0 in /usr/local/lib/python3.12/dist-packages (from torch>=1.11.0->sentence-transformers) (3.4.0)\n",
            "Requirement already satisfied: numpy>=1.17 in /usr/local/lib/python3.12/dist-packages (from transformers<5.0.0,>=4.41.0->sentence-transformers) (2.0.2)\n",
            "Requirement already satisfied: regex!=2019.12.17 in /usr/local/lib/python3.12/dist-packages (from transformers<5.0.0,>=4.41.0->sentence-transformers) (2024.11.6)\n",
            "Requirement already satisfied: tokenizers<=0.23.0,>=0.22.0 in /usr/local/lib/python3.12/dist-packages (from transformers<5.0.0,>=4.41.0->sentence-transformers) (0.22.1)\n",
            "Requirement already satisfied: safetensors>=0.4.3 in /usr/local/lib/python3.12/dist-packages (from transformers<5.0.0,>=4.41.0->sentence-transformers) (0.6.2)\n",
            "Requirement already satisfied: joblib>=1.2.0 in /usr/local/lib/python3.12/dist-packages (from scikit-learn->sentence-transformers) (1.5.2)\n",
            "Requirement already satisfied: threadpoolctl>=3.1.0 in /usr/local/lib/python3.12/dist-packages (from scikit-learn->sentence-transformers) (3.6.0)\n",
            "Requirement already satisfied: mpmath<1.4,>=1.1.0 in /usr/local/lib/python3.12/dist-packages (from sympy>=1.13.3->torch>=1.11.0->sentence-transformers) (1.3.0)\n",
            "Requirement already satisfied: MarkupSafe>=2.0 in /usr/local/lib/python3.12/dist-packages (from jinja2->torch>=1.11.0->sentence-transformers) (3.0.3)\n",
            "Requirement already satisfied: charset_normalizer<4,>=2 in /usr/local/lib/python3.12/dist-packages (from requests->huggingface-hub>=0.20.0->sentence-transformers) (3.4.3)\n",
            "Requirement already satisfied: idna<4,>=2.5 in /usr/local/lib/python3.12/dist-packages (from requests->huggingface-hub>=0.20.0->sentence-transformers) (3.10)\n",
            "Requirement already satisfied: urllib3<3,>=1.21.1 in /usr/local/lib/python3.12/dist-packages (from requests->huggingface-hub>=0.20.0->sentence-transformers) (2.5.0)\n",
            "Requirement already satisfied: certifi>=2017.4.17 in /usr/local/lib/python3.12/dist-packages (from requests->huggingface-hub>=0.20.0->sentence-transformers) (2025.8.3)\n",
            "Requirement already satisfied: openai in /usr/local/lib/python3.12/dist-packages (1.109.1)\n",
            "Requirement already satisfied: sentence-transformers in /usr/local/lib/python3.12/dist-packages (5.1.1)\n",
            "Requirement already satisfied: pandas in /usr/local/lib/python3.12/dist-packages (2.2.2)\n",
            "Requirement already satisfied: tqdm in /usr/local/lib/python3.12/dist-packages (4.67.1)\n",
            "Requirement already satisfied: anyio<5,>=3.5.0 in /usr/local/lib/python3.12/dist-packages (from openai) (4.11.0)\n",
            "Requirement already satisfied: distro<2,>=1.7.0 in /usr/local/lib/python3.12/dist-packages (from openai) (1.9.0)\n",
            "Requirement already satisfied: httpx<1,>=0.23.0 in /usr/local/lib/python3.12/dist-packages (from openai) (0.28.1)\n",
            "Requirement already satisfied: jiter<1,>=0.4.0 in /usr/local/lib/python3.12/dist-packages (from openai) (0.11.0)\n",
            "Requirement already satisfied: pydantic<3,>=1.9.0 in /usr/local/lib/python3.12/dist-packages (from openai) (2.11.9)\n",
            "Requirement already satisfied: sniffio in /usr/local/lib/python3.12/dist-packages (from openai) (1.3.1)\n",
            "Requirement already satisfied: typing-extensions<5,>=4.11 in /usr/local/lib/python3.12/dist-packages (from openai) (4.15.0)\n",
            "Requirement already satisfied: transformers<5.0.0,>=4.41.0 in /usr/local/lib/python3.12/dist-packages (from sentence-transformers) (4.56.2)\n",
            "Requirement already satisfied: torch>=1.11.0 in /usr/local/lib/python3.12/dist-packages (from sentence-transformers) (2.8.0+cu126)\n",
            "Requirement already satisfied: scikit-learn in /usr/local/lib/python3.12/dist-packages (from sentence-transformers) (1.6.1)\n",
            "Requirement already satisfied: scipy in /usr/local/lib/python3.12/dist-packages (from sentence-transformers) (1.16.2)\n",
            "Requirement already satisfied: huggingface-hub>=0.20.0 in /usr/local/lib/python3.12/dist-packages (from sentence-transformers) (0.35.3)\n",
            "Requirement already satisfied: Pillow in /usr/local/lib/python3.12/dist-packages (from sentence-transformers) (11.3.0)\n",
            "Requirement already satisfied: numpy>=1.26.0 in /usr/local/lib/python3.12/dist-packages (from pandas) (2.0.2)\n",
            "Requirement already satisfied: python-dateutil>=2.8.2 in /usr/local/lib/python3.12/dist-packages (from pandas) (2.9.0.post0)\n",
            "Requirement already satisfied: pytz>=2020.1 in /usr/local/lib/python3.12/dist-packages (from pandas) (2025.2)\n",
            "Requirement already satisfied: tzdata>=2022.7 in /usr/local/lib/python3.12/dist-packages (from pandas) (2025.2)\n",
            "Requirement already satisfied: idna>=2.8 in /usr/local/lib/python3.12/dist-packages (from anyio<5,>=3.5.0->openai) (3.10)\n",
            "Requirement already satisfied: certifi in /usr/local/lib/python3.12/dist-packages (from httpx<1,>=0.23.0->openai) (2025.8.3)\n",
            "Requirement already satisfied: httpcore==1.* in /usr/local/lib/python3.12/dist-packages (from httpx<1,>=0.23.0->openai) (1.0.9)\n",
            "Requirement already satisfied: h11>=0.16 in /usr/local/lib/python3.12/dist-packages (from httpcore==1.*->httpx<1,>=0.23.0->openai) (0.16.0)\n",
            "Requirement already satisfied: filelock in /usr/local/lib/python3.12/dist-packages (from huggingface-hub>=0.20.0->sentence-transformers) (3.19.1)\n",
            "Requirement already satisfied: fsspec>=2023.5.0 in /usr/local/lib/python3.12/dist-packages (from huggingface-hub>=0.20.0->sentence-transformers) (2025.3.0)\n",
            "Requirement already satisfied: packaging>=20.9 in /usr/local/lib/python3.12/dist-packages (from huggingface-hub>=0.20.0->sentence-transformers) (25.0)\n",
            "Requirement already satisfied: pyyaml>=5.1 in /usr/local/lib/python3.12/dist-packages (from huggingface-hub>=0.20.0->sentence-transformers) (6.0.3)\n",
            "Requirement already satisfied: requests in /usr/local/lib/python3.12/dist-packages (from huggingface-hub>=0.20.0->sentence-transformers) (2.32.4)\n",
            "Requirement already satisfied: hf-xet<2.0.0,>=1.1.3 in /usr/local/lib/python3.12/dist-packages (from huggingface-hub>=0.20.0->sentence-transformers) (1.1.10)\n",
            "Requirement already satisfied: annotated-types>=0.6.0 in /usr/local/lib/python3.12/dist-packages (from pydantic<3,>=1.9.0->openai) (0.7.0)\n",
            "Requirement already satisfied: pydantic-core==2.33.2 in /usr/local/lib/python3.12/dist-packages (from pydantic<3,>=1.9.0->openai) (2.33.2)\n",
            "Requirement already satisfied: typing-inspection>=0.4.0 in /usr/local/lib/python3.12/dist-packages (from pydantic<3,>=1.9.0->openai) (0.4.2)\n",
            "Requirement already satisfied: six>=1.5 in /usr/local/lib/python3.12/dist-packages (from python-dateutil>=2.8.2->pandas) (1.17.0)\n",
            "Requirement already satisfied: setuptools in /usr/local/lib/python3.12/dist-packages (from torch>=1.11.0->sentence-transformers) (75.2.0)\n",
            "Requirement already satisfied: sympy>=1.13.3 in /usr/local/lib/python3.12/dist-packages (from torch>=1.11.0->sentence-transformers) (1.13.3)\n",
            "Requirement already satisfied: networkx in /usr/local/lib/python3.12/dist-packages (from torch>=1.11.0->sentence-transformers) (3.5)\n",
            "Requirement already satisfied: jinja2 in /usr/local/lib/python3.12/dist-packages (from torch>=1.11.0->sentence-transformers) (3.1.6)\n",
            "Requirement already satisfied: nvidia-cuda-nvrtc-cu12==12.6.77 in /usr/local/lib/python3.12/dist-packages (from torch>=1.11.0->sentence-transformers) (12.6.77)\n",
            "Requirement already satisfied: nvidia-cuda-runtime-cu12==12.6.77 in /usr/local/lib/python3.12/dist-packages (from torch>=1.11.0->sentence-transformers) (12.6.77)\n",
            "Requirement already satisfied: nvidia-cuda-cupti-cu12==12.6.80 in /usr/local/lib/python3.12/dist-packages (from torch>=1.11.0->sentence-transformers) (12.6.80)\n",
            "Requirement already satisfied: nvidia-cudnn-cu12==9.10.2.21 in /usr/local/lib/python3.12/dist-packages (from torch>=1.11.0->sentence-transformers) (9.10.2.21)\n",
            "Requirement already satisfied: nvidia-cublas-cu12==12.6.4.1 in /usr/local/lib/python3.12/dist-packages (from torch>=1.11.0->sentence-transformers) (12.6.4.1)\n",
            "Requirement already satisfied: nvidia-cufft-cu12==11.3.0.4 in /usr/local/lib/python3.12/dist-packages (from torch>=1.11.0->sentence-transformers) (11.3.0.4)\n",
            "Requirement already satisfied: nvidia-curand-cu12==10.3.7.77 in /usr/local/lib/python3.12/dist-packages (from torch>=1.11.0->sentence-transformers) (10.3.7.77)\n",
            "Requirement already satisfied: nvidia-cusolver-cu12==11.7.1.2 in /usr/local/lib/python3.12/dist-packages (from torch>=1.11.0->sentence-transformers) (11.7.1.2)\n",
            "Requirement already satisfied: nvidia-cusparse-cu12==12.5.4.2 in /usr/local/lib/python3.12/dist-packages (from torch>=1.11.0->sentence-transformers) (12.5.4.2)\n",
            "Requirement already satisfied: nvidia-cusparselt-cu12==0.7.1 in /usr/local/lib/python3.12/dist-packages (from torch>=1.11.0->sentence-transformers) (0.7.1)\n",
            "Requirement already satisfied: nvidia-nccl-cu12==2.27.3 in /usr/local/lib/python3.12/dist-packages (from torch>=1.11.0->sentence-transformers) (2.27.3)\n",
            "Requirement already satisfied: nvidia-nvtx-cu12==12.6.77 in /usr/local/lib/python3.12/dist-packages (from torch>=1.11.0->sentence-transformers) (12.6.77)\n",
            "Requirement already satisfied: nvidia-nvjitlink-cu12==12.6.85 in /usr/local/lib/python3.12/dist-packages (from torch>=1.11.0->sentence-transformers) (12.6.85)\n",
            "Requirement already satisfied: nvidia-cufile-cu12==1.11.1.6 in /usr/local/lib/python3.12/dist-packages (from torch>=1.11.0->sentence-transformers) (1.11.1.6)\n",
            "Requirement already satisfied: triton==3.4.0 in /usr/local/lib/python3.12/dist-packages (from torch>=1.11.0->sentence-transformers) (3.4.0)\n",
            "Requirement already satisfied: regex!=2019.12.17 in /usr/local/lib/python3.12/dist-packages (from transformers<5.0.0,>=4.41.0->sentence-transformers) (2024.11.6)\n",
            "Requirement already satisfied: tokenizers<=0.23.0,>=0.22.0 in /usr/local/lib/python3.12/dist-packages (from transformers<5.0.0,>=4.41.0->sentence-transformers) (0.22.1)\n",
            "Requirement already satisfied: safetensors>=0.4.3 in /usr/local/lib/python3.12/dist-packages (from transformers<5.0.0,>=4.41.0->sentence-transformers) (0.6.2)\n",
            "Requirement already satisfied: joblib>=1.2.0 in /usr/local/lib/python3.12/dist-packages (from scikit-learn->sentence-transformers) (1.5.2)\n",
            "Requirement already satisfied: threadpoolctl>=3.1.0 in /usr/local/lib/python3.12/dist-packages (from scikit-learn->sentence-transformers) (3.6.0)\n",
            "Requirement already satisfied: mpmath<1.4,>=1.1.0 in /usr/local/lib/python3.12/dist-packages (from sympy>=1.13.3->torch>=1.11.0->sentence-transformers) (1.3.0)\n",
            "Requirement already satisfied: MarkupSafe>=2.0 in /usr/local/lib/python3.12/dist-packages (from jinja2->torch>=1.11.0->sentence-transformers) (3.0.3)\n",
            "Requirement already satisfied: charset_normalizer<4,>=2 in /usr/local/lib/python3.12/dist-packages (from requests->huggingface-hub>=0.20.0->sentence-transformers) (3.4.3)\n",
            "Requirement already satisfied: urllib3<3,>=1.21.1 in /usr/local/lib/python3.12/dist-packages (from requests->huggingface-hub>=0.20.0->sentence-transformers) (2.5.0)\n"
          ]
        }
      ],
      "source": [
        "!pip install openai sentence-transformers pandas tqdm\n"
      ]
    },
    {
      "cell_type": "code",
      "source": [
        "import openai\n",
        "import pandas as pd\n",
        "from tqdm import tqdm\n",
        "from sentence_transformers import SentenceTransformer, util"
      ],
      "metadata": {
        "id": "RlRaca4KHN95"
      },
      "execution_count": 12,
      "outputs": []
    },
    {
      "cell_type": "code",
      "source": [
        "INPUT_CSV = \"/content/s-bert - original.csv\"         # your input file (must have column 'original')\n",
        "OUTPUT_CSV = \"negation_results.csv\"\n",
        "SBERT_THRESHOLD = 0.75"
      ],
      "metadata": {
        "id": "nU4WC1cJH44C"
      },
      "execution_count": 13,
      "outputs": []
    },
    {
      "cell_type": "code",
      "source": [
        "from openai import OpenAI\n",
        "\n",
        "##_client = OpenAI <“OPENAI_API_KEY”>\n",
        "\n",
        "PROMPT_NEGATION = \"\"\"You're an expert linguist in English and Thai.\n",
        "You need to modify this Thai sentence by negating the sentence, while still keeping the whole semantic of the sentence.\n",
        "\n",
        "Examples of this modifications in English are as follows.\n",
        "\"I'm so tired\" → \"I'm so not energetic\"\n",
        "\"I'm really hungry\" → \"I'm really not full\"\n",
        "\"I'm not sure if I'm up for that\" → \"I'm sure I'm not up for that\"\n",
        "\"I'm not sure if I can make it to the event\" → \"I'm unsure if I can make it to the event\"\n",
        "\"I'm feeling a bit confused right now\" → \"I'm feeling a bit not clear right now\"\n",
        "\n",
        "Can you apply this concept to the Thai sentence below. Only show the modified sentence without any explanation.\n",
        "\n",
        "Thai sentence: \"{}\"\n",
        "\"\"\""
      ],
      "metadata": {
        "id": "WFOcEFPZHRVj"
      },
      "execution_count": 21,
      "outputs": []
    },
    {
      "cell_type": "code",
      "source": [
        "def gpt_negation(sentence: str) -> str:\n",
        "    prompt = PROMPT_NEGATION.format(sentence)\n",
        "    response = client.chat.completions.create(\n",
        "        model=\"gpt-4o-mini\",  # or gpt-4o\n",
        "        messages=[{\"role\": \"user\", \"content\": prompt}],\n",
        "        temperature=0.3,\n",
        "    )\n",
        "    return response.choices[0].message.content.strip()\n",
        "\n",
        "def sbert_similarity(model, sent1, sent2):\n",
        "    emb1 = model.encode(sent1, convert_to_tensor=True)\n",
        "    emb2 = model.encode(sent2, convert_to_tensor=True)\n",
        "    score = util.cos_sim(emb1, emb2)\n",
        "    return float(score.item())"
      ],
      "metadata": {
        "id": "hlJN-WSlHh0J"
      },
      "execution_count": 19,
      "outputs": []
    },
    {
      "cell_type": "code",
      "source": [
        "if __name__ == \"__main__\":\n",
        "    df = pd.read_csv(INPUT_CSV)\n",
        "    model = SentenceTransformer('paraphrase-multilingual-MiniLM-L12-v2')\n",
        "\n",
        "    results = []\n",
        "    for s in tqdm(df['original'], desc=\"Processing\"):\n",
        "        try:\n",
        "            negated = gpt_negation(s)\n",
        "            score = sbert_similarity(model, s, negated)\n",
        "            passed = \"✅ Pass\" if score >= SBERT_THRESHOLD else \"❌ Fail\"\n",
        "            results.append({\n",
        "                \"original\": s,\n",
        "                \"negated\": negated,\n",
        "                \"sbert_score\": round(score, 4),\n",
        "                \"result\": passed\n",
        "            })\n",
        "        except Exception as e:\n",
        "            results.append({\n",
        "                \"original\": s,\n",
        "                \"negated\": None,\n",
        "                \"sbert_score\": None,\n",
        "                \"result\": f\"Error: {e}\"\n",
        "            })\n",
        "\n",
        "    out_df = pd.DataFrame(results)\n",
        "    out_df.to_csv(OUTPUT_CSV, index=False, encoding='utf-8-sig')\n",
        "    print(out_df)"
      ],
      "metadata": {
        "colab": {
          "base_uri": "https://localhost:8080/"
        },
        "id": "whRux6xKtq2o",
        "outputId": "0d50c511-a3bc-4f44-d015-99c7d1c70a24"
      },
      "execution_count": 20,
      "outputs": [
        {
          "output_type": "stream",
          "name": "stderr",
          "text": [
            "Processing: 100%|██████████| 50/50 [00:54<00:00,  1.10s/it]"
          ]
        },
        {
          "output_type": "stream",
          "name": "stdout",
          "text": [
            "                                       original  \\\n",
            "0             ฉันมีความสุขมากที่ได้พบเพื่อนใหม่   \n",
            "1          ฉันตื่นเต้นกับการเดินทางไปต่างประเทศ   \n",
            "2                  ฉันไม่พอใจกับบริการที่ได้รับ   \n",
            "3                     ฉันรู้สึกเหนื่อยและหมดแรง   \n",
            "4                      เพลงนี้ทำให้ฉันรู้สึกสงบ   \n",
            "5                     ฉันไม่ชอบกลิ่นอาหารจานนี้   \n",
            "6               ฉันรู้สึกมั่นใจในทักษะของตัวเอง   \n",
            "7                         งานนี้ท้าทายแต่ก็สนุก   \n",
            "8                      พวกเขาพึงพอใจกับผลการสอบ   \n",
            "9                  กาแฟแก้วนี้ช่วยให้ฉันตื่นตัว   \n",
            "10           บรรยากาศร้านนี้เงียบสงบและผ่อนคลาย   \n",
            "11              บทเรียนนี้ยาก แต่เธอตั้งใจเรียน   \n",
            "12            หนังสือเล่มนี้ให้แรงบันดาลใจดีมาก   \n",
            "13                        อาหารมื้อนี้อร่อยสุดๆ   \n",
            "14                  เขาตื่นเต้นกับโอกาสครั้งนี้   \n",
            "15             การเดินทางครั้งนี้สนุกและน่าจดจำ   \n",
            "16     ฉันรู้สึกอบอุ่นใจเมื่อได้อยู่กับครอบครัว   \n",
            "17                 ฉันผิดหวังกับคุณภาพสินค้านี้   \n",
            "18            เขาช่วยฉันแก้ปัญหาได้อย่างรวดเร็ว   \n",
            "19                 ฉันตื่นเต้นที่จะเริ่มงานใหม่   \n",
            "20        หล่อนรู้สึกเสียใจที่ไม่สามารถไปงานได้   \n",
            "21          ฉันมีความหวังว่าวันพรุ่งนี้จะดีขึ้น   \n",
            "22                    ฉันเบื่อดูโทรทัศน์ทั้งวัน   \n",
            "23           เขารู้สึกผิดหวังเมื่อแพ้การแข่งขัน   \n",
            "24     วันนี้ฉันรู้สึกเฉยๆ ไม่มีอะไรเปลี่ยนแปลง   \n",
            "25                    ฉันชื่นชมผลงานศิลปะนี้มาก   \n",
            "26                       วันนี้อากาศดีและสดชื่น   \n",
            "27                  ฉันเบื่อชีวิตประจำวันแบบนี้   \n",
            "28                        ฉันกลัวว่าจะทำผิดพลาด   \n",
            "29                    ฉันไม่สามารถทนเสียงดังได้   \n",
            "30                 คำชมของคุณทำให้ฉันยิ้มไม่หุบ   \n",
            "31                    ฉันเกลียดการจราจรที่แออัด   \n",
            "32                ฉันรู้สึกเซ็งเมื่อฝนตกทั้งวัน   \n",
            "33            เพื่อนร่วมงานของฉันช่วยเหลือดีมาก   \n",
            "34               เขาทำงานหนักและได้ผลลัพธ์ที่ดี   \n",
            "35               เราภูมิใจในความสำเร็จของตัวเอง   \n",
            "36     ฉันไม่แน่ใจว่าตัวเลือกนี้ดีที่สุดหรือไม่   \n",
            "37                   ฉันรู้สึกผิดที่ลืมวันสำคัญ   \n",
            "38                 ฉันไม่พอใจกับการจัดการของทีม   \n",
            "39      ฉันไม่แน่ใจเกี่ยวกับการตัดสินใจครั้งนี้   \n",
            "40           การประชุมวันนี้น่าเบื่อและเสียเวลา   \n",
            "41                        ฉันกลัวว่าจะถูกปฏิเสธ   \n",
            "42                เราดีใจที่ได้ช่วยเหลือผู้อื่น   \n",
            "43  การออกกำลังกายทำให้ฉันรู้สึกกระปรี้กระเปร่า   \n",
            "44              ฉันรู้สึกแย่ที่ทำให้คนอื่นลำบาก   \n",
            "45                       ฉันเบื่อกับการรอคอยนาน   \n",
            "46                   ฉันหงุดหงิดเมื่อสิ่งของหาย   \n",
            "47             หนังเรื่องนี้น่าเบื่อและยืดเยื้อ   \n",
            "48                ฉันรู้สึกเครียดกับกำหนดส่งงาน   \n",
            "49                 ฉันรู้สึกกังวลเกี่ยวกับอนาคต   \n",
            "\n",
            "                                            negated  sbert_score  result  \n",
            "0            \"ฉันมีความสุขมากที่ไม่ได้พบเพื่อนใหม่\"       0.6722  ❌ Fail  \n",
            "1         \"ฉันไม่ตื่นเต้นกับการเดินทางไปต่างประเทศ\"       0.4771  ❌ Fail  \n",
            "2                 \"ฉันไม่ไม่พอใจกับบริการที่ได้รับ\"       0.8662  ✅ Pass  \n",
            "3                 \"ฉันรู้สึกไม่สดชื่นและไม่เต็มแรง\"       0.6223  ❌ Fail  \n",
            "4                 \"เพลงนี้ทำให้ฉันรู้สึกไม่วุ่นวาย\"       0.7666  ✅ Pass  \n",
            "5                    \"ฉันชอบกลิ่นอาหารจานนี้ไม่มาก\"       0.8571  ✅ Pass  \n",
            "6              \"ฉันรู้สึกไม่มั่นใจในทักษะของตัวเอง\"       0.5787  ❌ Fail  \n",
            "7                     \"งานนี้ไม่ท้าทายแต่ก็ไม่สนุก\"       0.6753  ❌ Fail  \n",
            "8                     \"พวกเขาไม่พึงพอใจกับผลการสอบ\"       0.4483  ❌ Fail  \n",
            "9                 \"กาแฟแก้วนี้ช่วยให้ฉันไม่ง่วงนอน\"       0.8336  ✅ Pass  \n",
            "10          \"บรรยากาศร้านนี้ไม่วุ่นวายและไม่เครียด\"       0.7122  ❌ Fail  \n",
            "11       \"บทเรียนนี้ไม่ง่าย แต่เธอก็ไม่ตั้งใจเรียน\"       0.7388  ❌ Fail  \n",
            "12           \"หนังสือเล่มนี้ให้แรงบันดาลใจไม่ดีมาก\"       0.6628  ❌ Fail  \n",
            "13                       \"อาหารมื้อนี้ไม่อร่อยสุดๆ\"       0.5892  ❌ Fail  \n",
            "14                   เขาไม่ตื่นเต้นกับโอกาสครั้งนี้       0.4802  ❌ Fail  \n",
            "15         \"การเดินทางครั้งนี้ไม่สนุกและไม่น่าจดจำ\"       0.5197  ❌ Fail  \n",
            "16   \"ฉันรู้สึกไม่หนาวใจเมื่อไม่ได้อยู่กับครอบครัว\"       0.5446  ❌ Fail  \n",
            "17                \"ฉันไม่ผิดหวังกับคุณภาพสินค้านี้\"       0.4006  ❌ Fail  \n",
            "18               \"เขาไม่ช่วยฉันแก้ปัญหาได้อย่างช้า\"       0.5013  ❌ Fail  \n",
            "19                \"ฉันไม่ตื่นเต้นที่จะเริ่มงานใหม่\"       0.4664  ❌ Fail  \n",
            "20           หล่อนรู้สึกไม่ดีใจที่ไม่สามารถไปงานได้       0.9042  ✅ Pass  \n",
            "21      \"ฉันไม่มีความหวังว่าวันพรุ่งนี้จะไม่ดีขึ้น\"       0.5944  ❌ Fail  \n",
            "22           \"ฉันไม่เบื่อที่จะไม่ดูโทรทัศน์ทั้งวัน\"       0.5836  ❌ Fail  \n",
            "23               เขารู้สึกไม่พอใจเมื่อแพ้การแข่งขัน       0.9401  ✅ Pass  \n",
            "24       \"วันนี้ฉันรู้สึกไม่เฉยๆ มีอะไรเปลี่ยนแปลง\"       0.6634  ❌ Fail  \n",
            "25                  \"ฉันไม่ชื่นชมผลงานศิลปะนี้น้อย\"       0.5196  ❌ Fail  \n",
            "26                   \"วันนี้อากาศไม่ดีและไม่สดชื่น\"       0.3993  ❌ Fail  \n",
            "27                 \"ฉันไม่เบื่อชีวิตประจำวันแบบนี้\"       0.5621  ❌ Fail  \n",
            "28                       \"ฉันไม่กลัวว่าจะทำถูกต้อง\"       0.3937  ❌ Fail  \n",
            "29                      \"ฉันสามารถทนเสียงดังไม่ได้\"       0.8738  ✅ Pass  \n",
            "30                   \"คำชมของคุณทำให้ฉันไม่ยิ้มเลย\"       0.6772  ❌ Fail  \n",
            "31                    \"ฉันไม่ชอบการจราจรที่ไม่โล่ง\"       0.7296  ❌ Fail  \n",
            "32               \"ฉันรู้สึกไม่สนุกเมื่อฝนตกทั้งวัน\"       0.6985  ❌ Fail  \n",
            "33        \"เพื่อนร่วมงานของฉันไม่ช่วยเหลือไม่ดีเลย\"       0.4811  ❌ Fail  \n",
            "34        เขาไม่ได้ทำงานเบาและไม่ได้ผลลัพธ์ที่ไม่ดี       0.6097  ❌ Fail  \n",
            "35             \"เราไม่ภูมิใจในความล้มเหลวของตัวเอง\"       0.4046  ❌ Fail  \n",
            "36       \"ฉันแน่ใจว่าตัวเลือกนี้ไม่ดีที่สุดหรือไม่\"       0.7688  ✅ Pass  \n",
            "37              \"ฉันรู้สึกไม่ถูกต้องที่ลืมวันสำคัญ\"       0.8468  ✅ Pass  \n",
            "38                   \"ฉันพอใจไม่กับการจัดการของทีม\"       0.9118  ✅ Pass  \n",
            "39  \"ฉันแน่ใจว่าฉันไม่เกี่ยวกับการตัดสินใจครั้งนี้\"       0.7436  ❌ Fail  \n",
            "40       \"การประชุมวันนี้ไม่น่าเบื่อและไม่เสียเวลา\"       0.5284  ❌ Fail  \n",
            "41                       \"ฉันไม่กลัวว่าจะถูกยอมรับ\"       0.3715  ❌ Fail  \n",
            "42            \"เราไม่ดีใจที่ไม่ได้ช่วยเหลือผู้อื่น\"       0.4131  ❌ Fail  \n",
            "43        \"การออกกำลังกายทำให้ฉันรู้สึกไม่เฉื่อยชา\"       0.6020  ❌ Fail  \n",
            "44              \"ฉันรู้สึกไม่ดีที่ทำให้คนอื่นลำบาก\"       0.8553  ✅ Pass  \n",
            "45                     \"ฉันไม่เบื่อกับการรอคอยสั้น\"       0.6585  ❌ Fail  \n",
            "46               \"ฉันไม่หงุดหงิดเมื่อสิ่งของไม่หาย\"       0.3217  ❌ Fail  \n",
            "47         \"หนังเรื่องนี้ไม่น่าเบื่อและไม่ยืดเยื้อ\"       0.5516  ❌ Fail  \n",
            "48               \"ฉันรู้สึกไม่สบายใจกับกำหนดส่งงาน\"       0.7956  ✅ Pass  \n",
            "49               \"ฉันรู้สึกไม่สบายใจเกี่ยวกับอนาคต\"       0.8212  ✅ Pass  \n"
          ]
        },
        {
          "output_type": "stream",
          "name": "stderr",
          "text": [
            "\n"
          ]
        }
      ]
    },
    {
      "cell_type": "code",
      "source": [],
      "metadata": {
        "id": "xUFDq6EVt282"
      },
      "execution_count": 11,
      "outputs": []
    }
  ]
}